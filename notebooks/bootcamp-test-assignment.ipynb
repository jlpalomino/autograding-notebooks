{
 "cells": [
  {
   "cell_type": "markdown",
   "metadata": {
    "nbgrader": {
     "grade": false,
     "grade_id": "cell-7ff2efa4566c0ab2",
     "locked": true,
     "schema_version": 3,
     "solution": false,
     "task": false
    }
   },
   "source": [
    "## Assignment\n",
    "\n",
    "You will be asked to work with precipitation data for  Boulder, Colorado, provided by the <a href=\"https://www.esrl.noaa.gov/psd/boulder/Boulder.mm.precip.html\" target=\"_blank\">U.S. National Oceanic and Atmospheric Administration (NOAA)</a>."
   ]
  },
  {
   "cell_type": "markdown",
   "metadata": {
    "nbgrader": {
     "grade": false,
     "grade_id": "cell-bc39c14307e1bc76",
     "locked": true,
     "schema_version": 3,
     "solution": false,
     "task": false
    }
   },
   "source": [
    "### Question 1: Import Python Packages\n",
    "\n",
    "In the questions below, you will need to import the necessary `Python` packages to accomplish the following tasks: \n",
    "\n",
    "1. Download a CSV file using `earthpy.data.get_data()`.\n",
    "2. Set your working directory to `~/earth-analytics`.\n",
    "3. Import data into `pandas dataframes`.\n",
    "4. Creating plots of your data using `matplotlib`."
   ]
  },
  {
   "cell_type": "code",
   "execution_count": 1,
   "metadata": {
    "nbgrader": {
     "grade": true,
     "grade_id": "imports",
     "locked": false,
     "points": 2,
     "schema_version": 3,
     "solution": true,
     "task": false
    },
    "tags": [
     "hide"
    ]
   },
   "outputs": [],
   "source": [
    "# Import necessary Python packages\n",
    "\n",
    "# BEGIN SOLUTION\n",
    "import os\n",
    "import matplotlib.pyplot as plt\n",
    "import pandas as pd\n",
    "import earthpy as et\n",
    "\n",
    "# END SOLUTION\n",
    "\n",
    "### DO NOT REMOVE LINES BELOW ###\n",
    "import matplotcheck.notebook as nb\n",
    "import matplotcheck.timeseries as ts"
   ]
  },
  {
   "cell_type": "markdown",
   "metadata": {
    "nbgrader": {
     "grade": false,
     "grade_id": "cell-6aebba45d37bfee4",
     "locked": true,
     "schema_version": 3,
     "solution": false,
     "task": false
    }
   },
   "source": [
    "### Question 2: Download Data and Plot\n",
    "\n",
    "1. Use `earthpy.data.get_data()` to download the following .csv file:\n",
    "    * `boulder-precip-2007-to-2017-months-seasons.csv` from `url = https://ndownloader.figshare.com/files/12767933`\n",
    "        * The data will download to `~/earth-analytics/data/earthpy-downloads/`.\n",
    "        * This dataset contains a row for each month (starting with January through December) and contains a column for each year (2007 to 2017). \n",
    "        * More information on `earthpy.data.get_data()` available at <a href=\"https://earthpy.readthedocs.io/en/latest/api/earthpy.io.html#earthpy.io.Data.get_data\" target=\"_blank\">this link</a>.        \n",
    "2. Import the data to a `pandas dataframe` and create a line plot for **2013** using `matplotlib`. \n",
    "    * Be sure to include:\n",
    "        1. An appropriate plot title.\n",
    "        2. Clear labels for the axes (including abbreviation for units of measurements where apppropriate)."
   ]
  },
  {
   "cell_type": "code",
   "execution_count": 2,
   "metadata": {
    "nbgrader": {
     "grade": false,
     "grade_id": "plot-2013",
     "locked": false,
     "schema_version": 3,
     "solution": true,
     "task": false
    }
   },
   "outputs": [
    {
     "data": {
      "image/png": "[encoded data removed]",
      "text/plain": [
       "<Figure size 432x288 with 1 Axes>"
      ]
     },
     "metadata": {
      "needs_background": "light"
     },
     "output_type": "display_data"
    }
   ],
   "source": [
    "# Create plot for 2013\n",
    "\n",
    "# BEGIN SOLUTION\n",
    "\n",
    "# Download data \n",
    "url = \"https://ndownloader.figshare.com/files/12767933\"\n",
    "et.data.get_data(url=url)\n",
    "\n",
    "# Set working directory\n",
    "os.chdir(os.path.join(et.io.HOME, 'earth-analytics'))\n",
    "\n",
    "# Import to pandas dataframe\n",
    "precip_2007_to_2017_months = pd.read_csv(\"data/earthpy-downloads/boulder-precip-2007-to-2017-months-seasons.csv\")\n",
    "\n",
    "fig, ax = plt.subplots()\n",
    "\n",
    "# Add the x-axis and the y-axis to the plot\n",
    "ax.plot(precip_2007_to_2017_months.months, precip_2007_to_2017_months.y2013, color=\"blue\")\n",
    "\n",
    "# Add plot title and labels to the axes\n",
    "ax.set(title=\"Monthly Precipitation in 2013 for Boulder, CO\", xlabel=\"Month\", ylabel=\"Precipitation (mm)\")\n",
    "    \n",
    "# rotate tick marks on x-axis\n",
    "plt.setp(ax.get_xticklabels(), rotation=45);\n",
    "\n",
    "# END SOLUTION\n",
    "\n",
    "### DO NOT REMOVE LINE BELOW ###\n",
    "ts_1_plot = nb.convert_axes(plt)"
   ]
  },
  {
   "cell_type": "code",
   "execution_count": 3,
   "metadata": {
    "nbgrader": {
     "grade": true,
     "grade_id": "func-def",
     "locked": true,
     "points": 0,
     "schema_version": 3,
     "solution": false,
     "task": false
    }
   },
   "outputs": [],
   "source": [
    "def run_test(func, points, *args, correct_message=\"default correct\", error_message=\"default error\", **kwargs):\n",
    "    results = {\"points\": 0, \"pass\": False}\n",
    "    score = 0\n",
    "    try:\n",
    "        fname = func.__name__\n",
    "        results['description'] = fname\n",
    "        func(*args, **kwargs)\n",
    "    except Exception as e:\n",
    "        results['message'] = error_message\n",
    "        results['traceback'] = e\n",
    "        pass\n",
    "    else:\n",
    "        results['pass'] = True\n",
    "        results['message'] = correct_message\n",
    "        results['points'] = points\n",
    "    \n",
    "    return results\n",
    "   \n",
    "def output_results(results):\n",
    "    points = 0\n",
    "    for r in results:\n",
    "        points += r['points']\n",
    "        print(\"Results for test '{}':\".format(r['description']))\n",
    "        if (r['pass']):\n",
    "            print(\" Pass! {msg} ({p} points)\".format(msg=r['message'],p=r['points']))\n",
    "        else:\n",
    "            print(\" Fail! {msg} ({p} points)\".format(msg=r['message'],p=r['points']))\n",
    "            print(\" Traceback: {t}\".format(t=r['traceback']))\n",
    "    return points"
   ]
  },
  {
   "cell_type": "code",
   "execution_count": 4,
   "metadata": {
    "nbgrader": {
     "grade": true,
     "grade_id": "plot-tests",
     "locked": true,
     "points": 15,
     "schema_version": 3,
     "solution": false,
     "task": false
    }
   },
   "outputs": [
    {
     "name": "stdout",
     "output_type": "stream",
     "text": [
      "Results for test 'assert_plot_type':\n",
      " Pass! Your plot is indeed a line plot. (3 points)\n",
      "Results for test 'assert_axis_label_contains':\n",
      " Pass! Your x axis label appropriately contains the word Month (2 points)\n",
      "Results for test 'assert_axis_label_contains':\n",
      " Pass! Your y axis label appropriately contains the word 'Precip' and identifies the units (2 points)\n",
      "Results for test 'assert_title_contains':\n",
      " Pass! Plot title appropriately contains the words 'Month', 'Precip', and '2013' (2 points)\n",
      "Results for test 'assert_xydata':\n",
      " Pass! Plot includes correct data (6 points)\n"
     ]
    },
    {
     "data": {
      "text/plain": [
       "15"
      ]
     },
     "execution_count": 4,
     "metadata": {},
     "output_type": "execute_result"
    }
   ],
   "source": [
    "# Locked Grading Cell - Homework Plot 1\n",
    "hw_plot1 = ts.TimeSeriesTester(ts_1_plot)\n",
    "\n",
    "results = []\n",
    "\n",
    "plot_type_test = run_test(hw_plot1.assert_plot_type, 3, 'line', \n",
    "             correct_message=\"Your plot is indeed a line plot.\",\n",
    "             error_message=\"Check that your plot is a line plot.\")\n",
    "results.append(plot_type_test)\n",
    "\n",
    "plot_x_lab_test = run_test(hw_plot1.assert_axis_label_contains, 2, axis=\"x\", lst=[\"Month\"],\n",
    "                  correct_message=\"Your x axis label appropriately contains the word Month\",\n",
    "                  error_message=\"Check your x axis label for a more appropriate label\")\n",
    "results.append(plot_x_lab_test)\n",
    "\n",
    "plot_y_lab_test = run_test(hw_plot1.assert_axis_label_contains, 2, axis=\"y\", lst=[\"Precip\", \"mm\"], \n",
    "                  correct_message=\"Your y axis label appropriately contains the word 'Precip' and identifies the units\",\n",
    "                  error_message=\"Check your y axis label for a more appropriate label with units identified.\")\n",
    "results.append(plot_y_lab_test)\n",
    "\n",
    "plot_title_test = run_test(hw_plot1.assert_title_contains, 2, [\"Month\", \"Precip\", \"2013\"],\n",
    "                   correct_message=\"Plot title appropriately contains the words 'Month', 'Precip', and '2013'\",\n",
    "                   error_message=\"Check your plot title words for a more appropriate title.\")\n",
    "results.append(plot_title_test)\n",
    "\n",
    "# Create expected data\n",
    "precip_2007_to_2017_months.reset_index(inplace=True)\n",
    "precip_2013 = precip_2007_to_2017_months[[\"index\", \"y2013\"]]\n",
    "\n",
    "# Add test to ensure the df has the correct values\n",
    "data_test = run_test(hw_plot1.assert_xydata, 6, xy_expected=precip_2013, \n",
    "                correct_message=\"Plot includes correct data\",\n",
    "                error_message=\"Check your plot data.\",\n",
    "                xcol=\"index\",\n",
    "                ycol=\"y2013\")\n",
    "\n",
    "results.append(data_test)\n",
    "\n",
    "output_results(results)"
   ]
  }
 ],
 "metadata": {
  "celltoolbar": "Create Assignment",
  "kernelspec": {
   "display_name": "Python 3",
   "language": "python",
   "name": "python3"
  },
  "language_info": {
   "codemirror_mode": {
    "name": "ipython",
    "version": 3
   },
   "file_extension": ".py",
   "mimetype": "text/x-python",
   "name": "python",
   "nbconvert_exporter": "python",
   "pygments_lexer": "ipython3",
   "version": "3.6.7"
  }
 },
 "nbformat": 4,
 "nbformat_minor": 2
}
